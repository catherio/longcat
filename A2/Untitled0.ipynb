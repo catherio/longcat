{
 "metadata": {
  "language": "lua",
  "name": "",
  "signature": "sha256:930e7d4769d89bd728df9747dd5e70796ac1b61c8144e64ef9559506c07f8aae"
 },
 "nbformat": 3,
 "nbformat_minor": 0,
 "worksheets": [
  {
   "cells": [
    {
     "cell_type": "code",
     "collapsed": false,
     "input": [
      "opt.datatransfer='scp'\n",
      "opt.datafolder='DLData'\n",
      "opt.dataloc='scp'\n",
      "dofile('/Users/bijanpesaran/longcat/A2/1_dataGet.lua')"
     ],
     "language": "python",
     "metadata": {},
     "outputs": [
      {
       "metadata": {},
       "output_type": "pyout",
       "prompt_number": 19,
       "text": [
        "==> SCPing data remotely from HPC. Please first open an HPC tunnel!\t\n"
       ]
      }
     ]
    },
    {
     "cell_type": "code",
     "collapsed": false,
     "input": [],
     "language": "python",
     "metadata": {},
     "outputs": [
      {
       "metadata": {},
       "output_type": "pyout",
       "prompt_number": 12,
       "text": [
        "\n"
       ]
      }
     ],
     "prompt_number": 12
    },
    {
     "cell_type": "code",
     "collapsed": false,
     "input": [],
     "language": "python",
     "metadata": {},
     "outputs": []
    }
   ],
   "metadata": {}
  }
 ]
}