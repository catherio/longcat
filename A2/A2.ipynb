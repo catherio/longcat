{
 "metadata": {
  "language": "lua",
  "name": "",
  "signature": "sha256:d0c767c601ae900fcb67ffb99885d1c506cff2c02ceaaf54302c5188fa5a9194"
 },
 "nbformat": 3,
 "nbformat_minor": 0,
 "worksheets": [
  {
   "cells": [
    {
     "cell_type": "code",
     "collapsed": false,
     "input": [
      "opt.datatransfer='scp'\n",
      "opt.datafolder='/Users/bijanpesaran/longcat/A2'\n",
      "opt.dataloc='scp'\n",
      "dofile('/Users/bijanpesaran/longcat/A2/1_dataGet.lua')"
     ],
     "language": "python",
     "metadata": {},
     "outputs": [
      {
       "metadata": {},
       "output_type": "pyout",
       "prompt_number": 2,
       "text": [
        "==> SCPing data remotely from HPC. Please first open an HPC tunnel!\t\n"
       ]
      },
      {
       "metadata": {},
       "output_type": "pyout",
       "prompt_number": 2,
       "text": [
        "==> Done copying data from HPC\t\n"
       ]
      }
     ],
     "prompt_number": 2
    },
    {
     "cell_type": "code",
     "collapsed": false,
     "input": [
      "\n",
      "\n",
      "dofile('2_dataProc.lua')\n",
      "\n"
     ],
     "language": "python",
     "metadata": {},
     "outputs": [
      {
       "metadata": {},
       "output_type": "pyout",
       "prompt_number": 3,
       "text": [
        "==> using reduced unlabeled data, for fast experiments\t\n",
        "==> loading dataset\t\n"
       ]
      },
      {
       "ename": ".../bijanpesaran/torch/install/share/lua/5.1/torch/File.lua:232: read error: read 839466898 blocks instead of -1530167296\nstack traceback:\n\t[C]: in function 'read'\n\t.../bijanpesaran/torch/install/share/lua/5.1/torch/File.lua:232: in function <.../bijanpesaran/torch/install/share/lua/5.1/torch/File.lua:163>\n\t[C]: in function 'read'\n\t.../bijanpesaran/torch/install/share/lua/5.1/torch/File.lua:232: in function 'readObject'\n\t.../bijanpesaran/torch/install/share/lua/5.1/torch/File.lua:248: in function 'readObject'\n\t.../bijanpesaran/torch/install/share/lua/5.1/torch/File.lua:271: in function 'load'\n\t2_dataProc.lua:72: in main chunk\n\t[C]: in function 'f'\n\t[string \"local f = function() return ...\"]:5: in main chunk\n\t[C]: in function 'xpcall'\n\t...bijanpesaran/torch/install/share/lua/5.1/itorch/main.lua:174: in function <...bijanpesaran/torch/install/share/lua/5.1/itorch/main.lua:140>\n\t...bijanpesaran/torch/install/share/lua/5.1/lzmq/poller.lua:75: in function 'poll'\n\t...anpesaran/torch/install/share/lua/5.1/lzmq/impl/loop.lua:307: in function 'poll'\n\t...anpesaran/torch/install/share/lua/5.1/lzmq/impl/loop.lua:325: in function 'sleep_ex'\n\t...anpesaran/torch/install/share/lua/5.1/lzmq/impl/loop.lua:370: in function 'start'\n\t...bijanpesaran/torch/install/share/lua/5.1/itorch/main.lua:341: in main chunk\n\t[C]: in function 'require'\n\t(command line):1: in main chunk\n\t[C]: at 0x0108bca620",
       "evalue": "",
       "output_type": "pyerr",
       "traceback": [
        ".../bijanpesaran/torch/install/share/lua/5.1/torch/File.lua:232: read error: read 839466898 blocks instead of -1530167296\nstack traceback:\n\t[C]: in function 'read'\n\t.../bijanpesaran/torch/install/share/lua/5.1/torch/File.lua:232: in function <.../bijanpesaran/torch/install/share/lua/5.1/torch/File.lua:163>\n\t[C]: in function 'read'\n\t.../bijanpesaran/torch/install/share/lua/5.1/torch/File.lua:232: in function 'readObject'\n\t.../bijanpesaran/torch/install/share/lua/5.1/torch/File.lua:248: in function 'readObject'\n\t.../bijanpesaran/torch/install/share/lua/5.1/torch/File.lua:271: in function 'load'\n\t2_dataProc.lua:72: in main chunk\n\t[C]: in function 'f'\n\t[string \"local f = function() return ...\"]:5: in main chunk\n\t[C]: in function 'xpcall'\n\t...bijanpesaran/torch/install/share/lua/5.1/itorch/main.lua:174: in function <...bijanpesaran/torch/install/share/lua/5.1/itorch/main.lua:140>\n\t...bijanpesaran/torch/install/share/lua/5.1/lzmq/poller.lua:75: in function 'poll'\n\t...anpesaran/torch/install/share/lua/5.1/lzmq/impl/loop.lua:307: in function 'poll'\n\t...anpesaran/torch/install/share/lua/5.1/lzmq/impl/loop.lua:325: in function 'sleep_ex'\n\t...anpesaran/torch/install/share/lua/5.1/lzmq/impl/loop.lua:370: in function 'start'\n\t...bijanpesaran/torch/install/share/lua/5.1/itorch/main.lua:341: in main chunk\n\t[C]: in function 'require'\n\t(command line):1: in main chunk\n\t[C]: at 0x0108bca620"
       ]
      }
     ],
     "prompt_number": 3
    },
    {
     "cell_type": "code",
     "collapsed": false,
     "input": [
      "a=2\n",
      "print(a)"
     ],
     "language": "python",
     "metadata": {},
     "outputs": [
      {
       "metadata": {},
       "output_type": "pyout",
       "prompt_number": 24,
       "text": [
        "2\t\n"
       ]
      }
     ],
     "prompt_number": 24
    },
    {
     "cell_type": "code",
     "collapsed": false,
     "input": [],
     "language": "python",
     "metadata": {},
     "outputs": []
    }
   ],
   "metadata": {}
  }
 ]
}