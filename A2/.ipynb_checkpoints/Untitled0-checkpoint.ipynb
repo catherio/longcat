{
 "metadata": {
  "name": "",
  "signature": "sha256:199563544b7c2bc6150c5b3683966740f507a32b18a4f80201d1a07686886c9d"
 },
 "nbformat": 3,
 "nbformat_minor": 0,
 "worksheets": []
}